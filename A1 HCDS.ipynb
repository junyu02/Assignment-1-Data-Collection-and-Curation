{
 "cells": [
  {
   "cell_type": "code",
   "execution_count": 1,
   "id": "c2ef77a6",
   "metadata": {},
   "outputs": [],
   "source": [
    "import pandas as pd\n",
    "import numpy as np\n",
    "\n",
    "df = pd.read_csv('Coffee_Survey.csv')"
   ]
  },
  {
   "cell_type": "markdown",
   "id": "b26304b3",
   "metadata": {},
   "source": [
    "Importing the database and the collected data"
   ]
  },
  {
   "cell_type": "code",
   "execution_count": 2,
   "id": "d4c4a12e",
   "metadata": {
    "scrolled": true
   },
   "outputs": [
    {
     "data": {
      "text/html": [
       "<div>\n",
       "<style scoped>\n",
       "    .dataframe tbody tr th:only-of-type {\n",
       "        vertical-align: middle;\n",
       "    }\n",
       "\n",
       "    .dataframe tbody tr th {\n",
       "        vertical-align: top;\n",
       "    }\n",
       "\n",
       "    .dataframe thead th {\n",
       "        text-align: right;\n",
       "    }\n",
       "</style>\n",
       "<table border=\"1\" class=\"dataframe\">\n",
       "  <thead>\n",
       "    <tr style=\"text-align: right;\">\n",
       "      <th></th>\n",
       "      <th>Do you drink coffee daily?</th>\n",
       "      <th>How many coffee you drink daily (Starbucks Grande cup)?</th>\n",
       "      <th>Why do you drink coffee</th>\n",
       "      <th>Do you think coffee works for you?</th>\n",
       "    </tr>\n",
       "  </thead>\n",
       "  <tbody>\n",
       "    <tr>\n",
       "      <th>0</th>\n",
       "      <td>YES</td>\n",
       "      <td>2</td>\n",
       "      <td>Study Stress</td>\n",
       "      <td>No</td>\n",
       "    </tr>\n",
       "    <tr>\n",
       "      <th>1</th>\n",
       "      <td>YES</td>\n",
       "      <td>2</td>\n",
       "      <td>Refreshing every morning</td>\n",
       "      <td>Yes</td>\n",
       "    </tr>\n",
       "    <tr>\n",
       "      <th>2</th>\n",
       "      <td>YES</td>\n",
       "      <td>3</td>\n",
       "      <td>Living habits</td>\n",
       "      <td>Maybe</td>\n",
       "    </tr>\n",
       "    <tr>\n",
       "      <th>3</th>\n",
       "      <td>NO</td>\n",
       "      <td>1</td>\n",
       "      <td>Living habits</td>\n",
       "      <td>No</td>\n",
       "    </tr>\n",
       "    <tr>\n",
       "      <th>4</th>\n",
       "      <td>NO</td>\n",
       "      <td>0</td>\n",
       "      <td>Study Stress</td>\n",
       "      <td>No</td>\n",
       "    </tr>\n",
       "  </tbody>\n",
       "</table>\n",
       "</div>"
      ],
      "text/plain": [
       "  Do you drink coffee daily?  \\\n",
       "0                        YES   \n",
       "1                        YES   \n",
       "2                        YES   \n",
       "3                         NO   \n",
       "4                         NO   \n",
       "\n",
       "  How many coffee you drink daily (Starbucks Grande cup)?  \\\n",
       "0                                                  2        \n",
       "1                                                  2        \n",
       "2                                                  3        \n",
       "3                                                  1        \n",
       "4                                                  0        \n",
       "\n",
       "    Why do you drink coffee Do you think coffee works for you?  \n",
       "0              Study Stress                                 No  \n",
       "1  Refreshing every morning                                Yes  \n",
       "2             Living habits                              Maybe  \n",
       "3             Living habits                                 No  \n",
       "4              Study Stress                                 No  "
      ]
     },
     "execution_count": 2,
     "metadata": {},
     "output_type": "execute_result"
    }
   ],
   "source": [
    "df.head()"
   ]
  },
  {
   "cell_type": "markdown",
   "id": "ffdf5f3b",
   "metadata": {},
   "source": [
    "Check if the csv file is normal"
   ]
  },
  {
   "cell_type": "code",
   "execution_count": 3,
   "id": "4ae2ff90",
   "metadata": {
    "scrolled": true
   },
   "outputs": [
    {
     "name": "stdout",
     "output_type": "stream",
     "text": [
      "94\n"
     ]
    }
   ],
   "source": [
    "print(len(df))"
   ]
  },
  {
   "cell_type": "markdown",
   "id": "30403695",
   "metadata": {},
   "source": [
    "Total"
   ]
  },
  {
   "cell_type": "code",
   "execution_count": 4,
   "id": "a468a3ec",
   "metadata": {},
   "outputs": [
    {
     "name": "stdout",
     "output_type": "stream",
     "text": [
      "<class 'pandas.core.frame.DataFrame'>\n"
     ]
    }
   ],
   "source": [
    "print(type(df))"
   ]
  },
  {
   "cell_type": "code",
   "execution_count": 5,
   "id": "ed0bcc40",
   "metadata": {},
   "outputs": [
    {
     "name": "stdout",
     "output_type": "stream",
     "text": [
      "<class 'pandas.core.series.Series'>\n"
     ]
    }
   ],
   "source": [
    "print(type(df['Do you drink coffee daily?']))"
   ]
  },
  {
   "cell_type": "markdown",
   "id": "68a0df6e",
   "metadata": {},
   "source": [
    "column names and data types stored in df"
   ]
  },
  {
   "cell_type": "code",
   "execution_count": 6,
   "id": "81372f09",
   "metadata": {},
   "outputs": [
    {
     "data": {
      "text/plain": [
       "'NO'"
      ]
     },
     "execution_count": 6,
     "metadata": {},
     "output_type": "execute_result"
    }
   ],
   "source": [
    "df['Do you drink coffee daily?'][3]"
   ]
  },
  {
   "cell_type": "markdown",
   "id": "09da5877",
   "metadata": {},
   "source": [
    "Check alignment"
   ]
  },
  {
   "cell_type": "code",
   "execution_count": 7,
   "id": "092c057c",
   "metadata": {},
   "outputs": [
    {
     "name": "stdout",
     "output_type": "stream",
     "text": [
      "Do you drink coffee daily? <class 'str'>\n",
      "How many coffee you drink daily (Starbucks Grande cup)? <class 'str'>\n",
      "Why do you drink coffee <class 'str'>\n",
      "Do you think coffee works for you? <class 'str'>\n"
     ]
    }
   ],
   "source": [
    "for col in df.columns:\n",
    "    print(col, type(df[col][1]))"
   ]
  },
  {
   "cell_type": "markdown",
   "id": "acdaffd4",
   "metadata": {},
   "source": [
    "Check the title"
   ]
  },
  {
   "cell_type": "code",
   "execution_count": 8,
   "id": "60ec1888",
   "metadata": {
    "scrolled": false
   },
   "outputs": [
    {
     "data": {
      "text/html": [
       "<div>\n",
       "<style scoped>\n",
       "    .dataframe tbody tr th:only-of-type {\n",
       "        vertical-align: middle;\n",
       "    }\n",
       "\n",
       "    .dataframe tbody tr th {\n",
       "        vertical-align: top;\n",
       "    }\n",
       "\n",
       "    .dataframe thead th {\n",
       "        text-align: right;\n",
       "    }\n",
       "</style>\n",
       "<table border=\"1\" class=\"dataframe\">\n",
       "  <thead>\n",
       "    <tr style=\"text-align: right;\">\n",
       "      <th></th>\n",
       "      <th>Do you drink coffee daily?</th>\n",
       "      <th>How many coffee you drink daily (Starbucks Grande cup)?</th>\n",
       "      <th>Why do you drink coffee</th>\n",
       "      <th>Do you think coffee works for you?</th>\n",
       "    </tr>\n",
       "  </thead>\n",
       "  <tbody>\n",
       "    <tr>\n",
       "      <th>count</th>\n",
       "      <td>94</td>\n",
       "      <td>94</td>\n",
       "      <td>94</td>\n",
       "      <td>94</td>\n",
       "    </tr>\n",
       "    <tr>\n",
       "      <th>unique</th>\n",
       "      <td>2</td>\n",
       "      <td>5</td>\n",
       "      <td>7</td>\n",
       "      <td>3</td>\n",
       "    </tr>\n",
       "    <tr>\n",
       "      <th>top</th>\n",
       "      <td>YES</td>\n",
       "      <td>0</td>\n",
       "      <td>Study Stress</td>\n",
       "      <td>Yes</td>\n",
       "    </tr>\n",
       "    <tr>\n",
       "      <th>freq</th>\n",
       "      <td>52</td>\n",
       "      <td>37</td>\n",
       "      <td>34</td>\n",
       "      <td>37</td>\n",
       "    </tr>\n",
       "  </tbody>\n",
       "</table>\n",
       "</div>"
      ],
      "text/plain": [
       "       Do you drink coffee daily?  \\\n",
       "count                          94   \n",
       "unique                          2   \n",
       "top                           YES   \n",
       "freq                           52   \n",
       "\n",
       "       How many coffee you drink daily (Starbucks Grande cup)?  \\\n",
       "count                                                  94        \n",
       "unique                                                  5        \n",
       "top                                                     0        \n",
       "freq                                                   37        \n",
       "\n",
       "       Why do you drink coffee Do you think coffee works for you?  \n",
       "count                       94                                 94  \n",
       "unique                       7                                  3  \n",
       "top               Study Stress                                Yes  \n",
       "freq                        34                                 37  "
      ]
     },
     "execution_count": 8,
     "metadata": {},
     "output_type": "execute_result"
    }
   ],
   "source": [
    "df.describe()"
   ]
  },
  {
   "cell_type": "markdown",
   "id": "24f913b8",
   "metadata": {},
   "source": [
    "The describe() method returns description of the data in the DataFrame."
   ]
  },
  {
   "cell_type": "code",
   "execution_count": 9,
   "id": "be737580",
   "metadata": {
    "scrolled": true
   },
   "outputs": [
    {
     "data": {
      "text/html": [
       "<div>\n",
       "<style scoped>\n",
       "    .dataframe tbody tr th:only-of-type {\n",
       "        vertical-align: middle;\n",
       "    }\n",
       "\n",
       "    .dataframe tbody tr th {\n",
       "        vertical-align: top;\n",
       "    }\n",
       "\n",
       "    .dataframe thead th {\n",
       "        text-align: right;\n",
       "    }\n",
       "</style>\n",
       "<table border=\"1\" class=\"dataframe\">\n",
       "  <thead>\n",
       "    <tr style=\"text-align: right;\">\n",
       "      <th></th>\n",
       "      <th>Do you drink coffee daily?</th>\n",
       "      <th>How many coffee you drink daily (Starbucks Grande cup)?</th>\n",
       "      <th>Why do you drink coffee</th>\n",
       "      <th>Do you think coffee works for you?</th>\n",
       "    </tr>\n",
       "  </thead>\n",
       "  <tbody>\n",
       "    <tr>\n",
       "      <th>0</th>\n",
       "      <td>YES</td>\n",
       "      <td>2</td>\n",
       "      <td>Study Stress</td>\n",
       "      <td>No</td>\n",
       "    </tr>\n",
       "    <tr>\n",
       "      <th>1</th>\n",
       "      <td>YES</td>\n",
       "      <td>2</td>\n",
       "      <td>Refreshing every morning</td>\n",
       "      <td>Yes</td>\n",
       "    </tr>\n",
       "    <tr>\n",
       "      <th>2</th>\n",
       "      <td>YES</td>\n",
       "      <td>3</td>\n",
       "      <td>Living habits</td>\n",
       "      <td>Maybe</td>\n",
       "    </tr>\n",
       "    <tr>\n",
       "      <th>3</th>\n",
       "      <td>NO</td>\n",
       "      <td>1</td>\n",
       "      <td>Living habits</td>\n",
       "      <td>No</td>\n",
       "    </tr>\n",
       "    <tr>\n",
       "      <th>4</th>\n",
       "      <td>NO</td>\n",
       "      <td>0</td>\n",
       "      <td>Study Stress</td>\n",
       "      <td>No</td>\n",
       "    </tr>\n",
       "  </tbody>\n",
       "</table>\n",
       "</div>"
      ],
      "text/plain": [
       "  Do you drink coffee daily?  \\\n",
       "0                        YES   \n",
       "1                        YES   \n",
       "2                        YES   \n",
       "3                         NO   \n",
       "4                         NO   \n",
       "\n",
       "  How many coffee you drink daily (Starbucks Grande cup)?  \\\n",
       "0                                                  2        \n",
       "1                                                  2        \n",
       "2                                                  3        \n",
       "3                                                  1        \n",
       "4                                                  0        \n",
       "\n",
       "    Why do you drink coffee Do you think coffee works for you?  \n",
       "0              Study Stress                                 No  \n",
       "1  Refreshing every morning                                Yes  \n",
       "2             Living habits                              Maybe  \n",
       "3             Living habits                                 No  \n",
       "4              Study Stress                                 No  "
      ]
     },
     "execution_count": 9,
     "metadata": {},
     "output_type": "execute_result"
    }
   ],
   "source": [
    "df.head()"
   ]
  },
  {
   "cell_type": "markdown",
   "id": "587181b9",
   "metadata": {},
   "source": [
    " used to get the first n rows."
   ]
  },
  {
   "cell_type": "code",
   "execution_count": 10,
   "id": "0eba1b6a",
   "metadata": {
    "scrolled": true
   },
   "outputs": [
    {
     "data": {
      "text/plain": [
       "Study Stress                                           34\n",
       "Study Stress;Living habits;Refreshing every morning    20\n",
       "Living habits                                          13\n",
       "Refreshing every morning                               12\n",
       "Study Stress;Refreshing every morning                   7\n",
       "Living habits;Refreshing every morning                  6\n",
       "Study Stress;Living habits                              2\n",
       "Name: Why do you drink coffee, dtype: int64"
      ]
     },
     "execution_count": 10,
     "metadata": {},
     "output_type": "execute_result"
    }
   ],
   "source": [
    "df['Why do you drink coffee'].value_counts()"
   ]
  },
  {
   "cell_type": "markdown",
   "id": "12540fe8",
   "metadata": {},
   "source": [
    "Collecting statistics"
   ]
  },
  {
   "cell_type": "code",
   "execution_count": 11,
   "id": "37272cc6",
   "metadata": {
    "scrolled": true
   },
   "outputs": [
    {
     "data": {
      "text/plain": [
       "YES    52\n",
       "NO     42\n",
       "Name: Do you drink coffee daily?, dtype: int64"
      ]
     },
     "execution_count": 11,
     "metadata": {},
     "output_type": "execute_result"
    }
   ],
   "source": [
    "df['Do you drink coffee daily?'].value_counts()"
   ]
  },
  {
   "cell_type": "markdown",
   "id": "e09c0299",
   "metadata": {},
   "source": [
    "Collecting statistics"
   ]
  },
  {
   "cell_type": "code",
   "execution_count": 12,
   "id": "8ffad7d2",
   "metadata": {},
   "outputs": [
    {
     "data": {
      "text/plain": [
       "0     37\n",
       "1     31\n",
       "2     16\n",
       "3      7\n",
       "4+     3\n",
       "Name: How many coffee you drink daily (Starbucks Grande cup)?, dtype: int64"
      ]
     },
     "execution_count": 12,
     "metadata": {},
     "output_type": "execute_result"
    }
   ],
   "source": [
    "df['How many coffee you drink daily (Starbucks Grande cup)?'].value_counts()"
   ]
  },
  {
   "cell_type": "markdown",
   "id": "3c1cad5c",
   "metadata": {},
   "source": [
    "Collecting statistics"
   ]
  },
  {
   "cell_type": "code",
   "execution_count": 13,
   "id": "29492da8",
   "metadata": {
    "scrolled": true
   },
   "outputs": [
    {
     "data": {
      "image/png": "[encoded data removed]",
      "text/plain": [
       "<Figure size 432x288 with 1 Axes>"
      ]
     },
     "metadata": {
      "needs_background": "light"
     },
     "output_type": "display_data"
    }
   ],
   "source": [
    "import matplotlib.pyplot as plt\n",
    "\n",
    "labels = ['0 cup', '1 cup', '2 cups', '3 cups', '4 cups+'] \n",
    "Counts_Study_Stress = [24, 11, 14, 6, 3]\n",
    "Counts_Living_habits = [5, 15, 11, 6, 1]\n",
    "Counts_Refreshing_everymorning = [8, 15, 12, 6, 2]\n",
    "\n",
    "x = np.arange(len(labels))  \n",
    "width = 0.18\n",
    "\n",
    "fig, ax = plt.subplots()\n",
    "rects1 = ax.bar(x - width/3, Counts_Study_Stress, width, label='Study Stress')\n",
    "rects2 = ax.bar(x + width*0.8, Counts_Living_habits, width, label='Living Habits')\n",
    "rects3 = ax.bar(x + width*2, Counts_Refreshing_everymorning, width, label='Refreshing Everymorning')\n",
    "\n",
    "ax.set_ylabel('Why people drink coffee')\n",
    "ax.set_title('The results are differentiated according to the number of cups')\n",
    "ax.set_xticks(x, labels)\n",
    "ax.legend()\n",
    "\n",
    "ax.bar_label(rects1, padding=3)\n",
    "ax.bar_label(rects2, padding=3)\n",
    "ax.bar_label(rects3, padding=3)\n",
    "\n",
    "fig.tight_layout()\n",
    "\n",
    "plt.show()"
   ]
  },
  {
   "cell_type": "markdown",
   "id": "af2ee292",
   "metadata": {},
   "source": [
    "Making charts"
   ]
  },
  {
   "cell_type": "markdown",
   "id": "608a8a51",
   "metadata": {},
   "source": [
    "The graph shows that the majority of people believe that the reason for drinking coffee is because of academic pressure. Even some occasional coffee drinkers. Should schools lighten the load for students? While studying is a great thing to do, excessive homework as well as papers can compress students' sleep time."
   ]
  }
 ],
 "metadata": {
  "kernelspec": {
   "display_name": "Python 3 (ipykernel)",
   "language": "python",
   "name": "python3"
  },
  "language_info": {
   "codemirror_mode": {
    "name": "ipython",
    "version": 3
   },
   "file_extension": ".py",
   "mimetype": "text/x-python",
   "name": "python",
   "nbconvert_exporter": "python",
   "pygments_lexer": "ipython3",
   "version": "3.10.0"
  }
 },
 "nbformat": 4,
 "nbformat_minor": 5
}
